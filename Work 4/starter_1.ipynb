{
  "cells": [
    {
      "cell_type": "code",
      "execution_count": 2,
      "id": "2c51efaa",
      "metadata": {
        "colab": {
          "base_uri": "https://localhost:8080/"
        },
        "id": "2c51efaa",
        "outputId": "ed32403e-a659-4f6e-c711-0fcba9dd8f4b"
      },
      "outputs": [
        {
          "output_type": "stream",
          "name": "stdout",
          "text": [
            "scikit-learn==1.6.1\n"
          ]
        }
      ],
      "source": [
        "!pip freeze | grep scikit-learn"
      ]
    },
    {
      "cell_type": "code",
      "execution_count": 3,
      "id": "4acf73a0-51b5-4663-9bb8-8eb947863e17",
      "metadata": {
        "colab": {
          "base_uri": "https://localhost:8080/"
        },
        "id": "4acf73a0-51b5-4663-9bb8-8eb947863e17",
        "outputId": "6262942a-d419-4c0c-f28a-16205c8d9ae0"
      },
      "outputs": [
        {
          "output_type": "stream",
          "name": "stdout",
          "text": [
            "Python 3.11.13\n"
          ]
        }
      ],
      "source": [
        "!python -V"
      ]
    },
    {
      "cell_type": "code",
      "execution_count": 4,
      "id": "0ef880a0",
      "metadata": {
        "id": "0ef880a0"
      },
      "outputs": [],
      "source": [
        "import pickle\n",
        "import pandas as pd"
      ]
    },
    {
      "cell_type": "code",
      "execution_count": 8,
      "id": "7836ccfd",
      "metadata": {
        "colab": {
          "base_uri": "https://localhost:8080/"
        },
        "id": "7836ccfd",
        "outputId": "c46ebbff-1e5c-4bd9-c409-59f50300f526"
      },
      "outputs": [
        {
          "output_type": "stream",
          "name": "stderr",
          "text": [
            "/usr/local/lib/python3.11/dist-packages/sklearn/base.py:380: InconsistentVersionWarning: Trying to unpickle estimator DictVectorizer from version 1.5.0 when using version 1.6.1. This might lead to breaking code or invalid results. Use at your own risk. For more info please refer to:\n",
            "https://scikit-learn.org/stable/model_persistence.html#security-maintainability-limitations\n",
            "  warnings.warn(\n",
            "/usr/local/lib/python3.11/dist-packages/sklearn/base.py:380: InconsistentVersionWarning: Trying to unpickle estimator LinearRegression from version 1.5.0 when using version 1.6.1. This might lead to breaking code or invalid results. Use at your own risk. For more info please refer to:\n",
            "https://scikit-learn.org/stable/model_persistence.html#security-maintainability-limitations\n",
            "  warnings.warn(\n"
          ]
        }
      ],
      "source": [
        "with open('model.bin', 'rb') as f_in:\n",
        "    dv, model = pickle.load(f_in)"
      ]
    },
    {
      "cell_type": "code",
      "execution_count": 9,
      "id": "41c08294",
      "metadata": {
        "id": "41c08294"
      },
      "outputs": [],
      "source": [
        "categorical = ['PULocationID', 'DOLocationID']\n",
        "\n",
        "def read_data(filename):\n",
        "    df = pd.read_parquet(filename)\n",
        "\n",
        "    df['duration'] = df.tpep_dropoff_datetime - df.tpep_pickup_datetime\n",
        "    df['duration'] = df.duration.dt.total_seconds() / 60\n",
        "\n",
        "    df = df[(df.duration >= 1) & (df.duration <= 60)].copy()\n",
        "\n",
        "    df[categorical] = df[categorical].fillna(-1).astype('int').astype('str')\n",
        "\n",
        "    return df"
      ]
    },
    {
      "cell_type": "code",
      "execution_count": 10,
      "id": "4854399a",
      "metadata": {
        "id": "4854399a"
      },
      "outputs": [],
      "source": [
        "df = read_data('https://d37ci6vzurychx.cloudfront.net/trip-data/yellow_tripdata_2023-03.parquet')"
      ]
    },
    {
      "cell_type": "code",
      "execution_count": 11,
      "id": "669fda0a",
      "metadata": {
        "id": "669fda0a"
      },
      "outputs": [],
      "source": [
        "dicts = df[categorical].to_dict(orient='records')\n",
        "X_val = dv.transform(dicts)\n",
        "y_pred = model.predict(X_val)"
      ]
    },
    {
      "cell_type": "markdown",
      "source": [
        "**Que 1** What's the standard deviation of the predicted duration?"
      ],
      "metadata": {
        "id": "1oA-hlp9L7dw"
      },
      "id": "1oA-hlp9L7dw"
    },
    {
      "cell_type": "code",
      "execution_count": 12,
      "id": "bf532ae7-1897-428c-ba0c-875ccaf7d76c",
      "metadata": {
        "colab": {
          "base_uri": "https://localhost:8080/"
        },
        "id": "bf532ae7-1897-428c-ba0c-875ccaf7d76c",
        "outputId": "6edafb97-5cbf-4c08-c06c-4bf5160fba7e"
      },
      "outputs": [
        {
          "output_type": "stream",
          "name": "stdout",
          "text": [
            "standard deviation of predictions: 6.25\n"
          ]
        }
      ],
      "source": [
        "print(f'standard deviation of predictions: {y_pred.std():.2f}')"
      ]
    },
    {
      "cell_type": "code",
      "source": [
        "year = 2023\n",
        "month = 3\n",
        "df['ride_id'] = f'{year:04d}/{month:02d}_' + df.index.astype('str')"
      ],
      "metadata": {
        "id": "3IrOM9pvL0Nw"
      },
      "id": "3IrOM9pvL0Nw",
      "execution_count": 13,
      "outputs": []
    },
    {
      "cell_type": "code",
      "source": [
        "df_result = pd.DataFrame()"
      ],
      "metadata": {
        "id": "iNQ45N5aMhtt"
      },
      "id": "iNQ45N5aMhtt",
      "execution_count": 14,
      "outputs": []
    },
    {
      "cell_type": "code",
      "source": [
        "df_result['ride_id'] = df['ride_id']\n",
        "df_result['prediction'] = y_pred"
      ],
      "metadata": {
        "id": "wh-xTV8MMup9"
      },
      "id": "wh-xTV8MMup9",
      "execution_count": 15,
      "outputs": []
    },
    {
      "cell_type": "code",
      "source": [
        "df_result.to_parquet(\n",
        "    'output_file',\n",
        "    engine='pyarrow',\n",
        "    compression=None,\n",
        "    index=False\n",
        ")"
      ],
      "metadata": {
        "id": "gmUQHMoVNCNX"
      },
      "id": "gmUQHMoVNCNX",
      "execution_count": 16,
      "outputs": []
    },
    {
      "cell_type": "markdown",
      "source": [
        "**Que 2** What is the size of output file?"
      ],
      "metadata": {
        "id": "yW9HO2xANaDN"
      },
      "id": "yW9HO2xANaDN"
    },
    {
      "cell_type": "code",
      "source": [
        "size = !stat -c %s $'/content/output_file'"
      ],
      "metadata": {
        "id": "-9bYjaw_NOtw"
      },
      "id": "-9bYjaw_NOtw",
      "execution_count": 17,
      "outputs": []
    },
    {
      "cell_type": "code",
      "source": [
        "print(f'size of output file: {int(size[0])/1048576:.2f} MB')"
      ],
      "metadata": {
        "colab": {
          "base_uri": "https://localhost:8080/"
        },
        "id": "BOTfwefpOYH1",
        "outputId": "ac2721ce-9fc8-4a36-b33d-d70747b94ff6"
      },
      "id": "BOTfwefpOYH1",
      "execution_count": 18,
      "outputs": [
        {
          "output_type": "stream",
          "name": "stdout",
          "text": [
            "size of output file: 65.46 MB\n"
          ]
        }
      ]
    },
    {
      "cell_type": "code",
      "source": [
        "!jupyter nbconvert --to script starter.ipynb"
      ],
      "metadata": {
        "colab": {
          "base_uri": "https://localhost:8080/"
        },
        "id": "mok_NOT8OY6d",
        "outputId": "0651865f-a3d6-4596-9dfe-0f5970a864d1"
      },
      "id": "mok_NOT8OY6d",
      "execution_count": 19,
      "outputs": [
        {
          "output_type": "stream",
          "name": "stdout",
          "text": [
            "[NbConvertApp] Converting notebook starter.ipynb to script\n",
            "[NbConvertApp] Writing 1702 bytes to starter.py\n"
          ]
        }
      ]
    },
    {
      "cell_type": "code",
      "source": [],
      "metadata": {
        "id": "GO3T7LczPsxD"
      },
      "id": "GO3T7LczPsxD",
      "execution_count": null,
      "outputs": []
    }
  ],
  "metadata": {
    "kernelspec": {
      "display_name": "Python 3 (ipykernel)",
      "language": "python",
      "name": "python3"
    },
    "language_info": {
      "codemirror_mode": {
        "name": "ipython",
        "version": 3
      },
      "file_extension": ".py",
      "mimetype": "text/x-python",
      "name": "python",
      "nbconvert_exporter": "python",
      "pygments_lexer": "ipython3",
      "version": "3.10.13"
    },
    "colab": {
      "provenance": []
    }
  },
  "nbformat": 4,
  "nbformat_minor": 5
}